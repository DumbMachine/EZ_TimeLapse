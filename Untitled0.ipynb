{
  "nbformat": 4,
  "nbformat_minor": 0,
  "metadata": {
    "colab": {
      "name": "Untitled0.ipynb",
      "version": "0.3.2",
      "provenance": [],
      "collapsed_sections": [],
      "include_colab_link": true
    },
    "kernelspec": {
      "name": "python3",
      "display_name": "Python 3"
    },
    "accelerator": "GPU"
  },
  "cells": [
    {
      "cell_type": "markdown",
      "metadata": {
        "id": "view-in-github",
        "colab_type": "text"
      },
      "source": [
        "<a href=\"https://colab.research.google.com/github/DumbMachine/EZ_TimeLapse/blob/master/Untitled0.ipynb\" target=\"_parent\"><img src=\"https://colab.research.google.com/assets/colab-badge.svg\" alt=\"Open In Colab\"/></a>"
      ]
    },
    {
      "metadata": {
        "id": "XzQigceOUjlz",
        "colab_type": "code",
        "outputId": "aa27df4b-7032-4928-ca49-8640e1f7672b",
        "colab": {
          "base_uri": "https://localhost:8080/",
          "height": 255
        }
      },
      "cell_type": "code",
      "source": [
        "!sudo pip install --upgrade youtube_dl\n",
        "!sudo pip install scikit-video"
      ],
      "execution_count": 2,
      "outputs": [
        {
          "output_type": "stream",
          "text": [
            "Collecting youtube_dl\n",
            "\u001b[?25l  Downloading https://files.pythonhosted.org/packages/37/22/4e9ca771ec8d8ea9e8ba829818066de0e31c04868b6d059ae47604ca8b28/youtube_dl-2019.4.17-py2.py3-none-any.whl (1.8MB)\n",
            "\u001b[K    100% |████████████████████████████████| 1.8MB 17.1MB/s \n",
            "\u001b[?25hInstalling collected packages: youtube-dl\n",
            "Successfully installed youtube-dl-2019.4.17\n",
            "Collecting scikit-video\n",
            "\u001b[?25l  Downloading https://files.pythonhosted.org/packages/b1/a6/c69cad508139a342810ae46e946ebb3256aa6e42f690d901bb68f50582e3/scikit_video-1.1.11-py2.py3-none-any.whl (2.3MB)\n",
            "\u001b[K    100% |████████████████████████████████| 2.3MB 11.2MB/s \n",
            "\u001b[?25hRequirement already satisfied: pillow in /usr/local/lib/python3.6/dist-packages (from scikit-video) (4.3.0)\n",
            "Requirement already satisfied: scipy in /usr/local/lib/python3.6/dist-packages (from scikit-video) (1.2.1)\n",
            "Requirement already satisfied: numpy in /usr/local/lib/python3.6/dist-packages (from scikit-video) (1.16.2)\n",
            "Requirement already satisfied: olefile in /usr/local/lib/python3.6/dist-packages (from pillow->scikit-video) (0.46)\n",
            "Installing collected packages: scikit-video\n",
            "Successfully installed scikit-video-1.1.11\n"
          ],
          "name": "stdout"
        }
      ]
    },
    {
      "metadata": {
        "id": "kKgBYzlQE6JV",
        "colab_type": "code",
        "colab": {
          "base_uri": "https://localhost:8080/",
          "height": 131
        },
        "outputId": "2e7a4feb-139e-42ca-ea27-e1b361dcbed4"
      },
      "cell_type": "code",
      "source": [
        "!youtube-dl https://www.youtube.com/watch?v=r-GonIqbio4 \n",
        "# --max-filesize 100m"
      ],
      "execution_count": 0,
      "outputs": [
        {
          "output_type": "stream",
          "text": [
            "[youtube] r-GonIqbio4: Downloading webpage\n",
            "[youtube] r-GonIqbio4: Downloading video info webpage\n",
            "[youtube] r-GonIqbio4: Downloading MPD manifest\n",
            "[dashsegments] Total fragments: 238\n",
            "[download] Destination: 21 min only clouds time lapse-r-GonIqbio4.f137.mp4\n",
            "\u001b[K[download]  91.6% of ~350.42MiB at  5.35MiB/s ETA 00:10"
          ],
          "name": "stdout"
        }
      ]
    },
    {
      "metadata": {
        "id": "fyYegzxXYQvC",
        "colab_type": "code",
        "colab": {}
      },
      "cell_type": "code",
      "source": [
        "def compare_images(imageA, imageB, title):\n",
        "    m = mse(imageA, imageB)\n",
        "    s = ssim(imageA, imageB,multichannel=True)\n",
        "    # setup the figure\n",
        "#     fig = plt.figure(title)\n",
        "#     plt.suptitle(\"MSE: %.2f, SSIM: %.2f\" % (m, s))\n",
        "#     ax = fig.add_subplot(1, 2, 1)\n",
        "#     plt.axis(\"off\")\n",
        "#     ax = fig.add_subplot(1, 2, 2)\n",
        "#     plt.axis(\"off\")\n",
        "#     # show the images\n",
        "#     plt.savefig(title)\n",
        "#     del fig\n",
        "#     plt.clf()\n",
        "    return m,s\n",
        "    \n",
        "def mse(imageA, imageB):\n",
        "    # the 'Mean Squared Error' between the two images is the\n",
        "    # sum of the squared difference between the two images;\n",
        "    # NOTE: the two images must have the same dimension\n",
        "    err = np.sum((imageA.astype(\"float\") - imageB.astype(\"float\")) ** 2)\n",
        "    err /= float(imageA.shape[0] * imageA.shape[1])\n",
        "    \n",
        "    # return the MSE, the lower the error, the more \"similar\"\n",
        "    # the two images are\n",
        "    return err"
      ],
      "execution_count": 0,
      "outputs": []
    },
    {
      "metadata": {
        "id": "-VOPTt1NVq73",
        "colab_type": "code",
        "colab": {}
      },
      "cell_type": "code",
      "source": [
        "import skvideo.io\n",
        "import matplotlib.pyplot as plt\n",
        "import numpy as np\n",
        "from skimage.measure import compare_ssim as ssim\n",
        "\n",
        "x = []\n",
        "images = []\n",
        "videogen = skvideo.io.vreader(\"./21 min only clouds time lapse-r-GonIqbio4.mp4\")\n",
        "count = 0\n",
        "total = 37950\n",
        "for frame in videogen:\n",
        "    print((total-count)/total)\n",
        "    if count>0:\n",
        "        something = compare_images(frame, old,f\"someting{count}\")\n",
        "        if something[1]>0.98:\n",
        "            images.append(frame)\n",
        "    #       x.append(something)\n",
        "    old = frame\n",
        "    count+=1"
      ],
      "execution_count": 0,
      "outputs": []
    },
    {
      "metadata": {
        "id": "QwWoneLdOJc6",
        "colab_type": "code",
        "colab": {
          "base_uri": "https://localhost:8080/",
          "height": 34
        },
        "outputId": "e2745e58-cfa1-4b14-f3d3-be3e0b17cd32"
      },
      "cell_type": "code",
      "source": [
        "videodata = skvideo.io.vread(\"./21 min only clouds time lapse-r-GonIqbio4.mp4\")\n",
        "print(videodata.shape)\n"
      ],
      "execution_count": 13,
      "outputs": [
        {
          "output_type": "stream",
          "text": [
            "(37950, 1080, 1920, 3)\n"
          ],
          "name": "stdout"
        }
      ]
    },
    {
      "metadata": {
        "id": "CQzmhK29d3t0",
        "colab_type": "code",
        "colab": {}
      },
      "cell_type": "code",
      "source": [
        "import skvideo.io\n",
        "import numpy as np\n",
        "\n",
        "skvideo.io.vwrite(\"00001outputvideo.mp4\", np.array(images).astype(np.uint8))"
      ],
      "execution_count": 0,
      "outputs": []
    },
    {
      "metadata": {
        "id": "TaM6taoMeC5S",
        "colab_type": "code",
        "colab": {
          "base_uri": "https://localhost:8080/",
          "height": 34
        },
        "outputId": "7e5c4e51-c4f6-4f06-d533-663623d149d4"
      },
      "cell_type": "code",
      "source": [
        "len(images)"
      ],
      "execution_count": 9,
      "outputs": [
        {
          "output_type": "execute_result",
          "data": {
            "text/plain": [
              "399"
            ]
          },
          "metadata": {
            "tags": []
          },
          "execution_count": 9
        }
      ]
    },
    {
      "metadata": {
        "id": "G8vViZsubfnd",
        "colab_type": "code",
        "outputId": "7ed0880b-34d6-4d66-cd25-679c03ff53de",
        "colab": {
          "base_uri": "https://localhost:8080/",
          "height": 162
        }
      },
      "cell_type": "code",
      "source": [
        "videogen.shape"
      ],
      "execution_count": 0,
      "outputs": [
        {
          "output_type": "error",
          "ename": "AttributeError",
          "evalue": "ignored",
          "traceback": [
            "\u001b[0;31m---------------------------------------------------------------------------\u001b[0m",
            "\u001b[0;31mAttributeError\u001b[0m                            Traceback (most recent call last)",
            "\u001b[0;32m<ipython-input-6-2f76d22d8259>\u001b[0m in \u001b[0;36m<module>\u001b[0;34m()\u001b[0m\n\u001b[0;32m----> 1\u001b[0;31m \u001b[0mvideogen\u001b[0m\u001b[0;34m.\u001b[0m\u001b[0mshape\u001b[0m\u001b[0;34m\u001b[0m\u001b[0;34m\u001b[0m\u001b[0m\n\u001b[0m",
            "\u001b[0;31mAttributeError\u001b[0m: 'generator' object has no attribute 'shape'"
          ]
        }
      ]
    },
    {
      "metadata": {
        "id": "r4NdgXnkV95O",
        "colab_type": "code",
        "outputId": "65e08728-b9f4-4d04-889c-2049655db3a5",
        "colab": {
          "base_uri": "https://localhost:8080/",
          "height": 188
        }
      },
      "cell_type": "code",
      "source": [
        ""
      ],
      "execution_count": 0,
      "outputs": [
        {
          "output_type": "stream",
          "text": [
            "Collecting scikit-video\n",
            "\u001b[?25l  Downloading https://files.pythonhosted.org/packages/b1/a6/c69cad508139a342810ae46e946ebb3256aa6e42f690d901bb68f50582e3/scikit_video-1.1.11-py2.py3-none-any.whl (2.3MB)\n",
            "\u001b[K    100% |████████████████████████████████| 2.3MB 13.8MB/s \n",
            "\u001b[?25hRequirement already satisfied: scipy in /usr/local/lib/python3.6/dist-packages (from scikit-video) (1.2.1)\n",
            "Requirement already satisfied: pillow in /usr/local/lib/python3.6/dist-packages (from scikit-video) (4.3.0)\n",
            "Requirement already satisfied: numpy in /usr/local/lib/python3.6/dist-packages (from scikit-video) (1.16.2)\n",
            "Requirement already satisfied: olefile in /usr/local/lib/python3.6/dist-packages (from pillow->scikit-video) (0.46)\n",
            "Installing collected packages: scikit-video\n",
            "Successfully installed scikit-video-1.1.11\n"
          ],
          "name": "stdout"
        }
      ]
    }
  ]
}